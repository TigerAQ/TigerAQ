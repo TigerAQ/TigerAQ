{
  "nbformat": 4,
  "nbformat_minor": 0,
  "metadata": {
    "colab": {
      "provenance": [],
      "authorship_tag": "ABX9TyMQXWmX9O8zIahRKvVhB9s9"
    },
    "kernelspec": {
      "name": "python3",
      "display_name": "Python 3"
    },
    "language_info": {
      "name": "python"
    }
  },
  "cells": [
    {
      "cell_type": "markdown",
      "source": [
        "**Video Content Summarize Agent using CrewAI**"
      ],
      "metadata": {
        "id": "q_iMmF5PPUdX"
      }
    },
    {
      "cell_type": "code",
      "execution_count": null,
      "metadata": {
        "collapsed": true,
        "id": "dIMNdfnABPrt"
      },
      "outputs": [],
      "source": [
        "!pip install langchain\n",
        "!pip install -U langsmith\n",
        "!pip install crewai\n",
        "!pip install crewai_tools\n",
        "!pip install langchain_google_genai\n",
        "!pip install youtube-transcript-api\n",
        "\n",
        "from langchain_google_genai import ChatGoogleGenerativeAI\n",
        "from youtube_transcript_api import YouTubeTranscriptApi"
      ]
    },
    {
      "cell_type": "code",
      "source": [
        "from langchain.chains.summarize import load_summarize_chain\n",
        "from langchain.llms import OpenAI\n",
        "from langchain.text_splitter import RecursiveCharacterTextSplitter\n",
        "from langchain.docstore.document import Document\n",
        "from langchain.tools import Tool"
      ],
      "metadata": {
        "id": "YEYXuCapFxjO"
      },
      "execution_count": 2,
      "outputs": []
    },
    {
      "cell_type": "code",
      "source": [
        "from langchain.schema import Document"
      ],
      "metadata": {
        "id": "jm6etuOJI8Of"
      },
      "execution_count": 10,
      "outputs": []
    },
    {
      "cell_type": "code",
      "execution_count": 3,
      "metadata": {
        "id": "f2kOhSoxDqOY"
      },
      "outputs": [],
      "source": [
        "from crewai import Agent, Task, Crew\n",
        "from crewai_tools import tool\n",
        "from crewai_tools import YoutubeVideoSearchTool\n",
        "#from crewai_tools import SerperDevTool"
      ]
    },
    {
      "cell_type": "code",
      "execution_count": 4,
      "metadata": {
        "id": "KHq0glkBAt9M"
      },
      "outputs": [],
      "source": [
        "#setting up Langsmith observatory log tracing\n",
        "import os\n",
        "\n",
        "os.environ[\"LANGCHAIN_TRACING_V2\"] = \"true\"\n",
        "os.environ[\"LANGCHAIN_PROJECT\"] = \"VideoSummarize\"\n",
        "os.environ[\"LANGCHAIN_ENDPOINT\"] = \"https://api.langchain.plus\"\n",
        "os.environ[\"LANGCHAIN_API_KEY\"] = \"your api key\""
      ]
    },
    {
      "cell_type": "code",
      "execution_count": 5,
      "metadata": {
        "id": "NT8Yr0riBq7q"
      },
      "outputs": [],
      "source": [
        "#search_tool = SerperDevTool()\n",
        "#youtube_search_tool = YoutubeVideoSearchTool(youtube_video_url=youtube_video_url)\n",
        "#GOOGLE_API_KEY = \"your api key\"\n",
        "#llm = ChatGoogleGenerativeAI(model=\"gemini-1.5-pro-latest\",google_api_key=GOOGLE_API_KEY )\n"
      ]
    },
    {
      "cell_type": "code",
      "source": [
        "llm = OpenAI(api_key=\"your api key\")\n",
        "\n",
        "# Create a customized CrewAI tool for getting the transcript of a YouTube video\n",
        "@tool(\"Retrieve the transcript\")\n",
        "def get_youtube_transcript(url: str) -> str:\n",
        "    \"\"\"This tool will take the Video URL input and retrieve the transcript of the Video.\"\"\"\n",
        "    try:\n",
        "        video_id = url.split(\"v=\")[1]\n",
        "        transcript_list = YouTubeTranscriptApi.get_transcript(video_id)\n",
        "        transcript_text = \"\"\n",
        "        for segment in transcript_list:  # output the transcript as Plain text\n",
        "            transcript_text += segment['text'] + \" \"\n",
        "        return transcript_text.strip()\n",
        "\n",
        "    except Exception as e:\n",
        "        print(f\"Error fetching transcript: {e}\")\n",
        "        return None\n",
        "\n",
        "# Create a customized CrewAI tool to summarize the transcript\n",
        "@tool(\"Summarize the transcript\")\n",
        "def summarize_transcript(transcript: str) -> str:\n",
        "    \"\"\"This tool will summarize the contents from the transcript texts.\"\"\"\n",
        "    if not transcript:\n",
        "        print(\"No transcript to summarize.\")\n",
        "        return None\n",
        "\n",
        "    # Split the transcript into smaller chunks for processing\n",
        "    text_splitter = RecursiveCharacterTextSplitter(chunk_size=1000, chunk_overlap=50)\n",
        "    texts = text_splitter.split_text(transcript)\n",
        "\n",
        "    # Create Langchain Documents from the chunks\n",
        "    docs = [Document(page_content=t) for t in texts]\n",
        "\n",
        "    # Initialize the LLM\n",
        "    llm_instance = llm\n",
        "\n",
        "    # Load the summarization chain using StuffDocumentsChain\n",
        "    chain = load_summarize_chain(llm_instance, chain_type=\"stuff\", verbose=False)\n",
        "\n",
        "    # Run the summarization and get the result\n",
        "    summary = chain.run(docs)\n",
        "    return summary\n",
        "\n",
        "# Define Agents and Tasks\n",
        "\n",
        "# Transcript retrieval agent\n",
        "researcher = Agent(\n",
        "    llm=llm,\n",
        "    role=\"Video Transcript Researcher\",\n",
        "    goal=\"Find the transcript of a given Video URL.\",\n",
        "    backstory=\"You are a video content researcher tasked with retrieving video transcripts.\",\n",
        "    allow_delegation=False,\n",
        "    tools=[get_youtube_transcript],\n",
        "    verbose=True,\n",
        ")\n",
        "\n",
        "task1 = Task(\n",
        "    description=\"Retrieve the Transcript of the given Video URL\",\n",
        "    expected_output=\"\"\"(Music intro)\n",
        "    Hey everyone, welcome back to my channel! Today we're talking about the five best tips for improving your productivity.  First up is getting enough sleep...(Explanation of sleep importance)\n",
        "    Tip number two is all about managing distractions.  Turn off your phone, close unnecessary tabs... (Explanation of managing distractions)\n",
        "    Moving on to tip three... (Explanation of remaining tips) ...(Outro music and call to action)\n",
        "    \"\"\",\n",
        "    agent=researcher,\n",
        ")\n",
        "\n",
        "# Content summarization agent\n",
        "summarizer = Agent(\n",
        "    llm=llm,\n",
        "    role=\"Content Summarizer\",\n",
        "    goal=\"Summarize the key takeaways from the video transcript.\",\n",
        "    backstory=\"You are a knowledgeable writer in the AI and LLM domain. In this case, you're generating a high-quality summary for a tech-savvy audience from the video transcript.\",\n",
        "    allow_delegation=False,\n",
        "    tools=[summarize_transcript],\n",
        "    verbose=True,\n",
        ")\n",
        "\n",
        "task2 = Task(\n",
        "    description=\"Summarize Transcript Contents\",\n",
        "    expected_output=\"\"\"A summary report of the transcripts. The result should be formatted as shown below:\n",
        "\n",
        "    Key takeaways: This video is about 3 intuitions of how LLM works so well.\n",
        "    Main arguments: The first intuition is that next word prediction is massive multi-task learning. The second intuition is that scaling compute (data * size of LM) reliably improves loss. The third intuition is that overall loss improves smoothly, individual loss can improve suddenly.\n",
        "    Background Information: The summary needs to be simple and use clear language. Focus on the main points and avoid unnecessary details.\"\"\",\n",
        "    agent=summarizer,\n",
        ")\n",
        "\n",
        "# Create Crew and execute tasks\n",
        "crew = Crew(agents=[researcher, summarizer], tasks=[task1, task2], verbose=1)\n",
        "report_output = crew.kickoff()\n",
        "print(report_output)\n"
      ],
      "metadata": {
        "id": "hH0Ji_fpI0j3"
      },
      "execution_count": null,
      "outputs": []
    }
  ]
}