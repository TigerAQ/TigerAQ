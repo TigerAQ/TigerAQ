{
  "nbformat": 4,
  "nbformat_minor": 0,
  "metadata": {
    "colab": {
      "provenance": [],
      "authorship_tag": "ABX9TyML0PtjOzPDfNchzAtTfp4m"
    },
    "kernelspec": {
      "name": "python3",
      "display_name": "Python 3"
    },
    "language_info": {
      "name": "python"
    }
  },
  "cells": [
    {
      "cell_type": "code",
      "source": [
        "!pip install langchain\n",
        "!pip install OpenAI\n",
        "!pip install --upgrade --quiet  langchain langchain-community langchain-experimental\n",
        "\n",
        "\n"
      ],
      "metadata": {
        "id": "6OznVGiRQJVM"
      },
      "execution_count": null,
      "outputs": []
    },
    {
      "cell_type": "code",
      "source": [
        "from langchain_community.utilities.sql_database import SQLDatabase\n",
        "from langchain_experimental.sql import SQLDatabaseChain\n",
        "from langchain.prompts import PromptTemplate\n",
        "from langchain import LLMChain\n",
        "from langchain.llms import OpenAI\n",
        "from langchain.memory import ConversationBufferMemory\n",
        "OPENAI_API_KEY = 'your api key'\n"
      ],
      "metadata": {
        "id": "FNLWa1RSSDfO"
      },
      "execution_count": 2,
      "outputs": []
    },
    {
      "cell_type": "markdown",
      "source": [
        "**Built the Assistant**"
      ],
      "metadata": {
        "id": "cj6KzaI4X5Ai"
      }
    },
    {
      "cell_type": "code",
      "source": [
        "llm = OpenAI(openai_api_key=OPENAI_API_KEY, temperature=0.7)"
      ],
      "metadata": {
        "id": "qc6ucdPOZHcO"
      },
      "execution_count": null,
      "outputs": []
    },
    {
      "cell_type": "code",
      "source": [
        "from google.colab import drive\n",
        "drive.mount('/content/drive')\n"
      ],
      "metadata": {
        "id": "m47cABnnwSn7"
      },
      "execution_count": null,
      "outputs": []
    },
    {
      "cell_type": "code",
      "source": [
        "import sqlite3\n",
        "conn = sqlite3.connect('/content/drive/My Drive/SF_trees.db')\n"
      ],
      "metadata": {
        "id": "BgLbblgGwUjl"
      },
      "execution_count": 5,
      "outputs": []
    },
    {
      "cell_type": "code",
      "source": [
        "c = conn.cursor()\n",
        "c.execute('''DROP TABLE nyc_trees;''')\n",
        "c.execute('''CREATE TABLE nyc_trees (\n",
        "    id INTEGER PRIMARY KEY AUTOINCREMENT,\n",
        "    common_name TEXT,\n",
        "    scientific_name TEXT,\n",
        "    location TEXT,\n",
        "    height_feet INTEGER\n",
        ");\n",
        "\n",
        "\n",
        "''')\n",
        "conn.commit()\n"
      ],
      "metadata": {
        "id": "OZw9qfwTy4Po"
      },
      "execution_count": 7,
      "outputs": []
    },
    {
      "cell_type": "code",
      "source": [
        "c = conn.cursor()\n",
        "c.execute('''INSERT INTO nyc_trees (common_name, scientific_name, location, height_feet) VALUES\n",
        "('American Beech', 'Fagus grandifolia', 'Central Park', 50),\n",
        "('Red Maple', 'Acer rubrum', 'Brooklyn Botanic Garden', 40),\n",
        "('Northern Red Oak', 'Quercus rubra', 'Prospect Park', 65),\n",
        "('American Elm', 'Ulmus americana', 'Manhattan', 80),\n",
        "('Pin Oak', 'Quercus palustris', 'Queens', 70),\n",
        "('London Plane', 'Platanus × acerifolia', 'Staten Island', 100),\n",
        "('Honey Locust', 'Gleditsia triacanthos', 'Bronx', 30),\n",
        "('Japanese Zelkova', 'Zelkova serrata', 'Flushing Meadows Park', 55);\n",
        "\n",
        "''')\n",
        "conn.commit()"
      ],
      "metadata": {
        "id": "6iIEF3OZzDLe"
      },
      "execution_count": 8,
      "outputs": []
    },
    {
      "cell_type": "code",
      "source": [
        "sqlite_db_path = '/content/drive/My Drive/SF_trees.db'\n",
        "db = SQLDatabase.from_uri(f'sqlite:///{sqlite_db_path}')"
      ],
      "metadata": {
        "id": "TAMdFE_1zhOf"
      },
      "execution_count": 9,
      "outputs": []
    },
    {
      "cell_type": "code",
      "source": [
        "db_chain = SQLDatabaseChain(llm=llm, database=db, verbose=True, use_query_checker=True)"
      ],
      "metadata": {
        "id": "4fFk9ES31uI3"
      },
      "execution_count": null,
      "outputs": []
    },
    {
      "cell_type": "code",
      "source": [
        "db_chain.run(\"How many species trees are in the database?\")\n"
      ],
      "metadata": {
        "id": "NfFh8Kno2N3-"
      },
      "execution_count": null,
      "outputs": []
    }
  ]
}